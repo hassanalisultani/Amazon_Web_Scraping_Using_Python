{
 "cells": [
  {
   "cell_type": "code",
   "execution_count": 1,
   "id": "cc803e98",
   "metadata": {},
   "outputs": [],
   "source": [
    "# import libraries\n",
    "\n",
    "from bs4 import BeautifulSoup\n",
    "import requests\n",
    "import time\n",
    "import datetime\n",
    "import smtplib"
   ]
  },
  {
   "cell_type": "code",
   "execution_count": 2,
   "id": "c15b659d",
   "metadata": {},
   "outputs": [
    {
     "name": "stdout",
     "output_type": "stream",
     "text": [
      "\n",
      "            HP 15 Laptop, 11th Gen Intel Core i5-1135G7 Processor, 8 GB RAM, 256 GB SSD Storage, 15.6” Full HD IPS Display, Windows 10 Home, HP Fast Charge, Lightweight Design (15-dy2021nr, 2020)\n",
      "            \n",
      "                         2,059\n",
      "                         \n",
      "                          .\n",
      "                         \n",
      "\n"
     ]
    }
   ],
   "source": [
    "# Connect to website and pull data\n",
    "\n",
    "URL = 'https://www.amazon.ae/HP-i5-1135G7-Processor-Lightweight-15-dy2021nr/dp/B08KGZ79N6/ref=sr_1_5?pd_rd_r=4187432e-b97c-4863-bccc-1af1312e15f7&pd_rd_w=eNfdi&pd_rd_wg=qpwnr&pf_rd_p=a47eb266-fcfd-4a35-a7c3-097636b63188&pf_rd_r=CRA8NNH0VA34DPNGA4BV&qid=1653295873&s=computers&sr=1-5'\n",
    "headers = {\"User-Agent\": \"Mozilla/5.0 (Windows NT 10.0; Win64; x64) AppleWebKit/537.36 (KHTML, like Gecko) Chrome/101.0.4951.67 Safari/537.36\",\"X-Amzn-Trace-Id\": \"Root=1-628b4773-189f8f3d09e152ad56481cab\"}\n",
    "\n",
    "page = requests.get(URL, headers=headers)\n",
    "soup1 = BeautifulSoup(page.content, 'html.parser')\n",
    "soup2 = BeautifulSoup(soup1.prettify(), 'html.parser')\n",
    "\n",
    "title = soup2.find(id='productTitle').get_text()\n",
    "price = soup2.find(class_='a-price-whole').get_text()\n",
    "\n",
    "print(title, price)"
   ]
  },
  {
   "cell_type": "code",
   "execution_count": 3,
   "id": "56040bfc",
   "metadata": {},
   "outputs": [
    {
     "name": "stdout",
     "output_type": "stream",
     "text": [
      "HP 15 Laptop, 11th Gen Intel Core i5-1135G7 Processor, 8 GB RAM, 256 GB SSD Storage, 15.6” Full HD IPS Display, Windows 10 Home, HP Fast Charge, Lightweight Design (15-dy2021nr, 2020)\n",
      "2059\n"
     ]
    }
   ],
   "source": [
    "# Clean up the data a little bit\n",
    "\n",
    "title = title.strip()\n",
    "price = price.strip()[:5]\n",
    "price = int(price.replace(\",\", \"\"))\n",
    "\n",
    "print(title)\n",
    "print(price)"
   ]
  },
  {
   "cell_type": "code",
   "execution_count": 4,
   "id": "a721b03c",
   "metadata": {},
   "outputs": [
    {
     "name": "stdout",
     "output_type": "stream",
     "text": [
      "2022-05-23\n"
     ]
    }
   ],
   "source": [
    "# Create a Timestamp for your output to track when data was collected\n",
    "\n",
    "today = datetime.date.today()\n",
    "print(today)"
   ]
  },
  {
   "cell_type": "markdown",
   "id": "d082d7dc",
   "metadata": {},
   "source": [
    "#### Below cell should only run first time, because re-creation of file causes loose of previous data.\n",
    "#### That's why after creation of file I commented down the function"
   ]
  },
  {
   "cell_type": "code",
   "execution_count": 5,
   "id": "c639972c",
   "metadata": {},
   "outputs": [],
   "source": [
    "# Create CSV and write headers and data into the fil\n",
    "\n",
    "import csv\n",
    "\n",
    "header = ['Title', 'Price', 'Date']\n",
    "data = [title, price, today]\n",
    "\n",
    "# with open('AmazonWebScraperDataset.csv', 'w', newline='', encoding='UTF8') as f:\n",
    "#     writer = csv.writer(f)\n",
    "#     writer.writerow(header)\n",
    "#     writer.writerow(data)"
   ]
  },
  {
   "cell_type": "code",
   "execution_count": 6,
   "id": "13abd84e",
   "metadata": {},
   "outputs": [
    {
     "name": "stdout",
     "output_type": "stream",
     "text": [
      "                                               Title  Price        Date\n",
      "0  HP 15 Laptop, 11th Gen Intel Core i5-1135G7 Pr...   2059  2022-05-23\n",
      "1  HP 15 Laptop, 11th Gen Intel Core i5-1135G7 Pr...   2059  2022-05-23\n",
      "2  HP 15 Laptop, 11th Gen Intel Core i5-1135G7 Pr...  2,059  2022-05-23\n",
      "3  HP 15 Laptop, 11th Gen Intel Core i5-1135G7 Pr...  2,059  2022-05-23\n",
      "4  HP 15 Laptop, 11th Gen Intel Core i5-1135G7 Pr...  2,059  2022-05-23\n",
      "5  HP 15 Laptop, 11th Gen Intel Core i5-1135G7 Pr...  2,059  2022-05-23\n",
      "6  HP 15 Laptop, 11th Gen Intel Core i5-1135G7 Pr...  2,059  2022-05-23\n"
     ]
    }
   ],
   "source": [
    "import pandas as pd\n",
    "\n",
    "df = pd.read_csv(r'C:\\Users\\pak\\AmazonWebScraperDataset.csv')\n",
    "\n",
    "print (df)"
   ]
  },
  {
   "cell_type": "code",
   "execution_count": 7,
   "id": "7820fa30",
   "metadata": {},
   "outputs": [],
   "source": [
    "#Now we are appending data to the csv\n",
    "\n",
    "# Run several time to insert more data\n",
    "\n",
    "with open('AmazonWebScraperDataset.csv', 'a+', newline='', encoding='UTF8') as f:\n",
    "    writer = csv.writer(f)\n",
    "    writer.writerow(data)"
   ]
  },
  {
   "cell_type": "markdown",
   "id": "8a9c5704",
   "metadata": {},
   "source": [
    "Combine all of the above code into one function, so whenever we call a function it gives us the data of that time"
   ]
  },
  {
   "cell_type": "code",
   "execution_count": 8,
   "id": "ae4f0309",
   "metadata": {},
   "outputs": [],
   "source": [
    "def check_price():\n",
    "    URL = 'https://www.amazon.ae/HP-i5-1135G7-Processor-Lightweight-15-dy2021nr/dp/B08KGZ79N6/ref=sr_1_5?pd_rd_r=4187432e-b97c-4863-bccc-1af1312e15f7&pd_rd_w=eNfdi&pd_rd_wg=qpwnr&pf_rd_p=a47eb266-fcfd-4a35-a7c3-097636b63188&pf_rd_r=CRA8NNH0VA34DPNGA4BV&qid=1653295873&s=computers&sr=1-5'\n",
    "    headers = {\"User-Agent\": \"Mozilla/5.0 (Windows NT 10.0; Win64; x64) AppleWebKit/537.36 (KHTML, like Gecko) Chrome/101.0.4951.67 Safari/537.36\",\"X-Amzn-Trace-Id\": \"Root=1-628b4773-189f8f3d09e152ad56481cab\"}\n",
    "\n",
    "    page = requests.get(URL, headers=headers)\n",
    "    soup1 = BeautifulSoup(page.content, 'html.parser')\n",
    "    soup2 = BeautifulSoup(soup1.prettify(), 'html.parser')\n",
    "\n",
    "    title = soup2.find(id='productTitle').get_text()\n",
    "    price = soup2.find(class_='a-price-whole').get_text()\n",
    "    \n",
    "    title = title.strip()\n",
    "    price = price.strip()[:5]\n",
    "    today = datetime.date.today()\n",
    "    \n",
    "    data = [title, price, today]\n",
    "    \n",
    "    with open('AmazonWebScraperDataset.csv', 'a+', newline='', encoding='UTF8') as f:\n",
    "        writer = csv.writer(f)\n",
    "        writer.writerow(data)"
   ]
  },
  {
   "cell_type": "code",
   "execution_count": null,
   "id": "2505a384",
   "metadata": {},
   "outputs": [],
   "source": [
    "# Runs check_price after a set time and inputs data into your CSV\n",
    "\n",
    "while (True):\n",
    "    check_price()\n",
    "    time.sleep(86400)    # There are 86,400 seconds in 24 hours"
   ]
  },
  {
   "cell_type": "markdown",
   "id": "90d753c7",
   "metadata": {},
   "source": [
    "#### We can set an email for the perticular data as well"
   ]
  },
  {
   "cell_type": "code",
   "execution_count": null,
   "id": "509096ca",
   "metadata": {},
   "outputs": [],
   "source": [
    "# We can set a function for the price less than AED 1900\n",
    "\n",
    "def send_mail():\n",
    "    server = smtplib.SMTP_SSL('smtp.gmail.com',465)\n",
    "    server.ehlo()\n",
    "    #server.starttls()\n",
    "    server.ehlo()\n",
    "    server.login('hassanalisultani@gmail.com','xxxxxxxxxxxxxx')\n",
    "    \n",
    "    subject = \"The Laptop you want is below AED 1900! Now is your chance to buy!\"\n",
    "    body = \"Hafiz, This is the moment we have been waiting for. Now is your chance to pick up the Laptop of your dreams. Don't mess it up! Link here: https://www.amazon.ae/HP-i5-1135G7-Processor-Lightweight-15-dy2021nr/dp/B08KGZ79N6/ref=sr_1_5?pd_rd_r=4187432e-b97c-4863-bccc-1af1312e15f7&pd_rd_w=eNfdi&pd_rd_wg=qpwnr&pf_rd_p=a47eb266-fcfd-4a35-a7c3-097636b63188&pf_rd_r=CRA8NNH0VA34DPNGA4BV&qid=1653295873&s=computers&sr=1-5&th=1\"\n",
    "   \n",
    "    msg = f\"Subject: {subject}\\n\\n{body}\"\n",
    "    \n",
    "    server.sendmail(\n",
    "        'hassanalisultani@gmail.com',\n",
    "        msg\n",
    "     \n",
    "    )"
   ]
  },
  {
   "cell_type": "code",
   "execution_count": null,
   "id": "dababa58",
   "metadata": {},
   "outputs": [],
   "source": []
  }
 ],
 "metadata": {
  "kernelspec": {
   "display_name": "Python 3 (ipykernel)",
   "language": "python",
   "name": "python3"
  },
  "language_info": {
   "codemirror_mode": {
    "name": "ipython",
    "version": 3
   },
   "file_extension": ".py",
   "mimetype": "text/x-python",
   "name": "python",
   "nbconvert_exporter": "python",
   "pygments_lexer": "ipython3",
   "version": "3.9.12"
  }
 },
 "nbformat": 4,
 "nbformat_minor": 5
}
